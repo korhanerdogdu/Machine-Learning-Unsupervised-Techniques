{
 "cells": [
  {
   "cell_type": "markdown",
   "metadata": {},
   "source": [
    "<h1 style=\"color:rgb(0,120,170)\">Assignment 2: Maximum Likelihood</h1>"
   ]
  },
  {
   "cell_type": "markdown",
   "metadata": {},
   "source": [
    "This material, no matter whether in printed or electronic form, may be used for personal and non-commercial educational use only. Any reproduction of this material, no matter whether as a whole or in parts, no matter whether in printed or in electronic form, requires explicit prior acceptance of the authors."
   ]
  },
  {
   "cell_type": "markdown",
   "metadata": {},
   "source": [
    "<h3 style=\"color:rgb(210,90,80)\">Exercise 1 (25 points):</h3>\n",
    "\n",
    "Compute the Maximum Likelihood Estimator for the parameter $\\lambda > 0$ of a\n",
    "Poisson distribution. This means: Assuming we have data samples ${x_{1},x_{2},...,x_{n}}$, we want to\n",
    "find the $\\lambda$ that maximizes the likelihood\n",
    "\n",
    "$$\n",
    "\\mathcal{L}(\\lambda) = \\prod_{i=1}^{n} \\mathcal{P}(x_{i}; \\lambda) = \\prod_{i=1}^{n} \\frac{\\lambda^{x_{i}}}{x_{i}!} \\mathcal{e}^{-\\lambda}\n",
    "$$\n",
    "\n",
    "\n",
    "**Hint:** You will have a much easier time if you compute with the log-likelihood as compared to the likelihood.\n",
    "\n",
    "You should arrive at this solution: $\\hat{\\lambda} = \\frac 1 n \\sum_{i=1}^{n} x_{i}$."
   ]
  },
  {
   "cell_type": "markdown",
   "metadata": {},
   "source": [
    "########## YOUR SOLUTION HERE ##########\n",
    "\n",
    "----\n",
    "\n",
    "\n",
    "likelihood function:\n",
    "\n",
    "$$\n",
    "\\mathcal{L}(\\lambda) = \\prod_{i=1}^{n} P(x_i; \\lambda) = \\prod_{i=1}^{n} \\frac{\\lambda^{x_i} e^{-\\lambda}}{x_i!}\n",
    "$$\n",
    "\n",
    "Computing with log-likelihood function\n",
    "\n",
    "\n",
    "$$\n",
    "\\log(\\mathcal{L}(\\lambda)) = \\sum_{i=1}^{n} \\log\\left(\\frac{\\lambda^{x_i} e^{-\\lambda}}{x_i!}\\right) = \\sum_{i=1}^{n} \\left(x_i \\log(\\lambda) - \\lambda - \\log(x_i!)\\right)\n",
    "$$\n",
    "\n",
    "We can simplify the equation because there is a constant part and it will not affect the result of the equation.\n",
    "\n",
    "$$\n",
    "\\log(\\mathcal{L}(\\lambda)) = \\sum_{i=1}^{n} x_i \\log(\\lambda) - n\\lambda\n",
    "$$\n",
    "\n",
    "To find the maximum likelihood, we should take the derivation according to lambda and make it equal to zero.\n",
    "\n",
    "$$\n",
    "\\frac{d}{d\\lambda} \\log(\\mathcal{L}(\\lambda)) = \\frac{d}{d\\lambda} \\left(\\sum_{i=1}^{n} x_i \\log(\\lambda) - n\\lambda\\right) = \\sum_{i=1}^{n} \\frac{x_i}{\\lambda} - n\n",
    "$$\n",
    "\n",
    "When we make the derivation to equal it to zero we get;\n",
    "\n",
    "$$\n",
    "\\sum_{i=1}^{n} \\frac{x_i}{\\lambda} = n\n",
    "$$\n",
    "\n",
    "$$\n",
    "\\lambda = \\frac{1}{n} \\sum_{i=1}^{n} x_i\n",
    "$$\n",
    "\n",
    "\n",
    "-------\n"
   ]
  },
  {
   "cell_type": "markdown",
   "metadata": {},
   "source": [
    "In the next exercises, we will plot the log-likelihood from the previous task as a function of $\\lambda$ and mark the\n",
    "position where the maximum occurs. Use the data stored in poisson.csv for this task. As\n",
    "possible values for $\\lambda$ we suggest values from $1$ to $50$ with a step size of $0.5$, i.e. $(1.0, 1.5, 2.0, ...).$ "
   ]
  },
  {
   "cell_type": "code",
   "execution_count": 2,
   "metadata": {},
   "outputs": [
    {
     "name": "stdout",
     "output_type": "stream",
     "text": [
      "Collecting pandas\n",
      "  Downloading pandas-2.2.1-cp311-cp311-macosx_11_0_arm64.whl (11.3 MB)\n",
      "\u001b[2K     \u001b[90m━━━━━━━━━━━━━━━━━━━━━━━━━━━━━━━━━━━━━━━━\u001b[0m \u001b[32m11.3/11.3 MB\u001b[0m \u001b[31m24.4 MB/s\u001b[0m eta \u001b[36m0:00:00\u001b[0m00:01\u001b[0m00:01\u001b[0m\n",
      "\u001b[?25hRequirement already satisfied: numpy<2,>=1.23.2 in /Library/Frameworks/Python.framework/Versions/3.11/lib/python3.11/site-packages (from pandas) (1.26.4)\n",
      "Requirement already satisfied: python-dateutil>=2.8.2 in /Users/korhanerdogdu/Library/Python/3.11/lib/python/site-packages (from pandas) (2.9.0.post0)\n",
      "Collecting pytz>=2020.1\n",
      "  Downloading pytz-2024.1-py2.py3-none-any.whl (505 kB)\n",
      "\u001b[2K     \u001b[90m━━━━━━━━━━━━━━━━━━━━━━━━━━━━━━━━━━━━━━\u001b[0m \u001b[32m505.5/505.5 kB\u001b[0m \u001b[31m20.2 MB/s\u001b[0m eta \u001b[36m0:00:00\u001b[0m\n",
      "\u001b[?25hCollecting tzdata>=2022.7\n",
      "  Downloading tzdata-2024.1-py2.py3-none-any.whl (345 kB)\n",
      "\u001b[2K     \u001b[90m━━━━━━━━━━━━━━━━━━━━━━━━━━━━━━━━━━━━━━\u001b[0m \u001b[32m345.4/345.4 kB\u001b[0m \u001b[31m18.7 MB/s\u001b[0m eta \u001b[36m0:00:00\u001b[0m\n",
      "\u001b[?25hRequirement already satisfied: six>=1.5 in /Users/korhanerdogdu/Library/Python/3.11/lib/python/site-packages (from python-dateutil>=2.8.2->pandas) (1.16.0)\n",
      "Installing collected packages: pytz, tzdata, pandas\n",
      "Successfully installed pandas-2.2.1 pytz-2024.1 tzdata-2024.1\n",
      "\n",
      "\u001b[1m[\u001b[0m\u001b[34;49mnotice\u001b[0m\u001b[1;39;49m]\u001b[0m\u001b[39;49m A new release of pip available: \u001b[0m\u001b[31;49m22.3.1\u001b[0m\u001b[39;49m -> \u001b[0m\u001b[32;49m24.0\u001b[0m\n",
      "\u001b[1m[\u001b[0m\u001b[34;49mnotice\u001b[0m\u001b[1;39;49m]\u001b[0m\u001b[39;49m To update, run: \u001b[0m\u001b[32;49mpip3 install --upgrade pip\u001b[0m\n",
      "Note: you may need to restart the kernel to use updated packages.\n"
     ]
    },
    {
     "data": {
      "text/html": [
       "<div>\n",
       "<style scoped>\n",
       "    .dataframe tbody tr th:only-of-type {\n",
       "        vertical-align: middle;\n",
       "    }\n",
       "\n",
       "    .dataframe tbody tr th {\n",
       "        vertical-align: top;\n",
       "    }\n",
       "\n",
       "    .dataframe thead th {\n",
       "        text-align: right;\n",
       "    }\n",
       "</style>\n",
       "<table border=\"1\" class=\"dataframe\">\n",
       "  <thead>\n",
       "    <tr style=\"text-align: right;\">\n",
       "      <th></th>\n",
       "      <th>0</th>\n",
       "    </tr>\n",
       "  </thead>\n",
       "  <tbody>\n",
       "    <tr>\n",
       "      <th>0</th>\n",
       "      <td>11</td>\n",
       "    </tr>\n",
       "    <tr>\n",
       "      <th>1</th>\n",
       "      <td>10</td>\n",
       "    </tr>\n",
       "    <tr>\n",
       "      <th>2</th>\n",
       "      <td>11</td>\n",
       "    </tr>\n",
       "    <tr>\n",
       "      <th>3</th>\n",
       "      <td>9</td>\n",
       "    </tr>\n",
       "    <tr>\n",
       "      <th>4</th>\n",
       "      <td>12</td>\n",
       "    </tr>\n",
       "  </tbody>\n",
       "</table>\n",
       "</div>"
      ],
      "text/plain": [
       "    0\n",
       "0  11\n",
       "1  10\n",
       "2  11\n",
       "3   9\n",
       "4  12"
      ]
     },
     "execution_count": 2,
     "metadata": {},
     "output_type": "execute_result"
    }
   ],
   "source": [
    "%pip install pandas\n",
    "import pandas as pd\n",
    "import matplotlib.pyplot as plt\n",
    "import numpy as np\n",
    "data_df = pd.read_csv('poisson.csv',header=None)\n",
    "\n",
    "# print the head of the dataset, good practice\n",
    "data_df.head()"
   ]
  },
  {
   "cell_type": "code",
   "execution_count": 3,
   "metadata": {},
   "outputs": [
    {
     "name": "stdout",
     "output_type": "stream",
     "text": [
      "<class 'pandas.core.frame.DataFrame'>\n",
      "<class 'numpy.ndarray'>\n"
     ]
    }
   ],
   "source": [
    "X = data_df.values[:,0]\n",
    "\n",
    "print(type(data_df))\n",
    "print(type(X))"
   ]
  },
  {
   "cell_type": "code",
   "execution_count": 4,
   "metadata": {},
   "outputs": [
    {
     "data": {
      "image/png": "[encoded data removed]",
      "text/plain": [
       "<Figure size 800x300 with 1 Axes>"
      ]
     },
     "metadata": {},
     "output_type": "display_data"
    }
   ],
   "source": [
    "plt.figure(figsize=(8,3))\n",
    "plt.hist(X)\n",
    "plt.xlabel('x')\n",
    "plt.ylabel('p(x)')\n",
    "plt.title('Histogram of poisson.csv');\n",
    "plt.show()"
   ]
  },
  {
   "cell_type": "markdown",
   "metadata": {},
   "source": [
    "**Log Likelihood:**"
   ]
  },
  {
   "cell_type": "code",
   "execution_count": 5,
   "metadata": {},
   "outputs": [],
   "source": [
    "import math\n",
    "\n",
    "def loglikelihood(x, lam):\n",
    "    if lam == 0:\n",
    "        return -1\n",
    "    lnL = 0 \n",
    "    for xi in x:\n",
    "        lnL += xi*np.log(lam)-np.log(math.factorial(xi))-lam\n",
    "    return lnL"
   ]
  },
  {
   "cell_type": "code",
   "execution_count": 6,
   "metadata": {},
   "outputs": [
    {
     "name": "stdout",
     "output_type": "stream",
     "text": [
      "(1000,)\n",
      "lnL(1)  = -17657.38\n",
      "lnL(10) =  -2256.88\n",
      "lnL(20) =  -4911.60\n",
      "lnL(30) = -10614.89\n",
      "lnL(40) = -17566.32\n",
      "lnL(50) = -25201.67\n"
     ]
    }
   ],
   "source": [
    "#test the function\n",
    "lam_set = np.linspace(1,50,99)\n",
    "print(X.shape)\n",
    "\n",
    "print(\"lnL(1)  = %9.2f\"%loglikelihood(X,lam_set[0]))\n",
    "print(\"lnL(10) = %9.2f\"%loglikelihood(X,lam_set[9*2]))\n",
    "print(\"lnL(20) = %9.2f\"%loglikelihood(X,lam_set[19*2]))\n",
    "print(\"lnL(30) = %9.2f\"%loglikelihood(X,lam_set[29*2]))\n",
    "print(\"lnL(40) = %9.2f\"%loglikelihood(X,lam_set[39*2]))\n",
    "print(\"lnL(50) = %9.2f\"%loglikelihood(X,lam_set[49*2]))"
   ]
  },
  {
   "cell_type": "markdown",
   "metadata": {},
   "source": [
    "<h3 style=\"color:rgb(210,90,80)\">Exercise 2 (5 points):</h3>\n",
    "\n",
    "Implement the `estimator_formula` function returning the analytic solution for lambda-hat"
   ]
  },
  {
   "cell_type": "code",
   "execution_count": 7,
   "metadata": {},
   "outputs": [],
   "source": [
    "def estimator_formula(X):\n",
    "    \"\"\" the estimator returns lambda-hat according to the result of the calculation in task 1\"\"\"\n",
    "    \n",
    "    lam_max_formula = sum(X) / len(X)  \n",
    "    return lam_max_formula"
   ]
  },
  {
   "cell_type": "code",
   "execution_count": 8,
   "metadata": {},
   "outputs": [
    {
     "name": "stdout",
     "output_type": "stream",
     "text": [
      "Likelihood is maximal at lambda-hat (formula) =    10.597\n",
      "            Log-Likelihood at this lambda-hat = -2239.405\n"
     ]
    }
   ],
   "source": [
    "lam_max_formula = estimator_formula(X)\n",
    "print('Likelihood is maximal at lambda-hat (formula) = %9.3f'%lam_max_formula)\n",
    "print('            Log-Likelihood at this lambda-hat = %9.3f'%loglikelihood(X,lam_max_formula))"
   ]
  },
  {
   "cell_type": "markdown",
   "metadata": {},
   "source": [
    "<h3 style=\"color:rgb(210,90,80)\">Exercise 3 (5 points):</h3>\n",
    "\n",
    "Implement the `estimator_data` function returning an estimate for lambda-hat numerically using argmax over the suggested support points of lambda"
   ]
  },
  {
   "cell_type": "code",
   "execution_count": 9,
   "metadata": {},
   "outputs": [],
   "source": [
    "def estimator_support(X, lam_set):\n",
    "    \n",
    "    loglikelih = [loglikelihood(X, lami) for lami in lam_set]\n",
    "    \n",
    "    lam_max_index = np.argmax(loglikelih)\n",
    "    lam_max = lam_set[lam_max_index]\n",
    "    \n",
    "    ln_min = np.min(loglikelih)\n",
    "    ln_max = np.max(loglikelih)\n",
    "    \n",
    "    return loglikelih, ln_min, ln_max, lam_max\n"
   ]
  },
  {
   "cell_type": "code",
   "execution_count": 10,
   "metadata": {},
   "outputs": [
    {
     "name": "stdout",
     "output_type": "stream",
     "text": [
      "Likelihood is maximal at lambda-hat (argmax) =    10.500\n",
      "Log-Likelihood at this lambda-hat = -2239.852\n"
     ]
    }
   ],
   "source": [
    "loglikelih, ln_min, ln_max, lam_max = estimator_support(X, lam_set)\n",
    "print('Likelihood is maximal at lambda-hat (argmax) = %9.3f'%lam_max)\n",
    "print('Log-Likelihood at this lambda-hat = %9.3f'%loglikelihood(X,lam_max))"
   ]
  },
  {
   "cell_type": "markdown",
   "metadata": {},
   "source": [
    "<h3 style=\"color:rgb(210,90,80)\">Exercise 4 (10 points):</h3>\n",
    "\n",
    "* Plot the loglikelihood function over `lam_set`\n",
    "* Mark the maxima in the plot according to `estimator_formula` and `estimator_support`"
   ]
  },
  {
   "cell_type": "code",
   "execution_count": 11,
   "metadata": {},
   "outputs": [
    {
     "data": {
      "image/png": "[encoded data removed]",
      "text/plain": [
       "<Figure size 1000x600 with 1 Axes>"
      ]
     },
     "metadata": {},
     "output_type": "display_data"
    }
   ],
   "source": [
    "plt.figure(figsize=(10, 6))\n",
    "plt.plot(lam_set, loglikelih, label='Log-Likelihood', zorder=1)\n",
    "plt.scatter([lam_max_formula], [loglikelihood(X, lam_max_formula)], color='red', label='Estimator_Formula (λ-hat)', zorder=2)\n",
    "plt.scatter([lam_max], [loglikelihood(X, lam_max)], color='green', label='Estimator_Support (Max λ)', zorder=3)\n",
    "\n",
    "plt.title('Log-Likelihood of Lambda over Lambda Set')\n",
    "plt.xlabel('Lambda (λ)')\n",
    "plt.ylabel('Log-Likelihood')\n",
    "plt.legend()\n",
    "plt.grid(True)\n",
    "plt.show()"
   ]
  },
  {
   "cell_type": "markdown",
   "metadata": {},
   "source": [
    "<h3 style=\"color:rgb(208,90,80)\">Exercise 5 (5 points)</h3>\n",
    "\n",
    "* Explain and discuss the result in your own words. Where is the maximum?"
   ]
  },
  {
   "cell_type": "markdown",
   "metadata": {},
   "source": [
    "########## YOUR SOLUTION HERE ##########"
   ]
  },
  {
   "cell_type": "markdown",
   "metadata": {},
   "source": [
    "----\n",
    "\n",
    "Estimator_Formula (λ-hat): The value of λ-hat, calculated using the estimator_formula function, is the arithmetic mean of the dataset. This value is a simple estimate of the most suitable λ value for the dataset and is based on the maximum likelihood estimation (MLE).\n",
    "\n",
    "Estimator_Support (Max λ): The value of λ that has the maximum value of the log-likelihood function, found using the estimator_support function. This value represents the λ value among those in the lam_set that best explains the dataset and is the point at which the log-likelihood function is maximized.\n",
    "\n",
    "Location of Maximum: The maximum of the log-likelihood function is found at the point marked by Estimator_Support (Max λ). This point is the λ value that maximizes the likelihood of the dataset and represents the best estimate of the parameter for the Poisson distribution. This maximum is the best estimate for the λ parameter considering the dataset.\n",
    "\n",
    "Discussion: The values of Estimator_Formula (λ-hat) and Estimator_Support (Max λ) are usually close to each other. The reason for this is that the arithmetic mean of the dataset is a natural estimate for the λ parameter of the Poisson distribution. However, these two values may not always be exactly the same. Especially, the choice of lam_set, the range's width, and the density of λ values can affect the precise location of the maximum log-likelihood value. The location of the maximum can vary depending on the structural characteristics and distribution of the dataset. Therefore, it is important to remember that the location of the maximum can change in analyses conducted on different datasets. As a result, the maximum of the log-likelihood function represents the most suitable value for the Poisson distribution parameter λ and is the value that best explains the dataset. This maximum value is of critical importance for statistical modeling and data analysis.\n",
    "\n",
    "\n",
    "----\n",
    "\n",
    "\n",
    "\n"
   ]
  },
  {
   "cell_type": "markdown",
   "metadata": {},
   "source": []
  }
 ],
 "metadata": {
  "kernelspec": {
   "display_name": "Python 3 (ipykernel)",
   "language": "python",
   "name": "python3"
  },
  "language_info": {
   "codemirror_mode": {
    "name": "ipython",
    "version": 3
   },
   "file_extension": ".py",
   "mimetype": "text/x-python",
   "name": "python",
   "nbconvert_exporter": "python",
   "pygments_lexer": "ipython3",
   "version": "3.11.2"
  }
 },
 "nbformat": 4,
 "nbformat_minor": 2
}
